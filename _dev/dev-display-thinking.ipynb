{
 "cells": [
  {
   "cell_type": "markdown",
   "metadata": {},
   "source": [
    "# Dev: How to display thinking block"
   ]
  },
  {
   "cell_type": "code",
   "execution_count": null,
   "metadata": {},
   "outputs": [],
   "source": [
    "import sys\n",
    "from pathlib import Path\n",
    "sys.path.insert(1, str(Path.cwd().parent)) "
   ]
  },
  {
   "cell_type": "code",
   "execution_count": null,
   "metadata": {},
   "outputs": [],
   "source": [
    "# What is 1+1?\n",
    "assist_raw1 = \"\"\"\n",
    "<think>\n",
    "Alright, the user just asked, \"What is 1+1?\" That seems pretty straightforward. They might be testing me or just starting with basic math. I should make sure to answer clearly and correctly. Maybe they're a student or someone looking for a quick calculation. I'll respond with the correct answer and offer further help in case they have more questions. Keeping it friendly and open-ended should encourage them to continue the conversation if they need more assistance.\n",
    "</think>\n",
    "\n",
    "1 + 1 equals **2**. How can I assist you further? 😊\n",
    "\"\"\"\n",
    "\n",
    "assist_raw1_partial = \"\"\"\n",
    "<think>\n",
    "Alright, the user just asked, \"What is 1+1?\"\n",
    "\"\"\""
   ]
  },
  {
   "cell_type": "markdown",
   "metadata": {},
   "source": [
    "## V1: `extract_from_think()` (fail just opening tag)"
   ]
  },
  {
   "cell_type": "code",
   "execution_count": 13,
   "metadata": {},
   "outputs": [],
   "source": [
    "def extract_from_think(\n",
    "    string: str,\n",
    "):\n",
    "    # Use regular expressions to find content between <think> tags\n",
    "    import re\n",
    "    match = re.search(rf\"<think>\\s*(.*?)\\s*</think>\", string, re.DOTALL)\n",
    "    if not match:\n",
    "        print(f\"No <think> tags found in the input string.\")\n",
    "        return\n",
    "    # Return the first match string\n",
    "    return match.group(1)"
   ]
  },
  {
   "cell_type": "code",
   "execution_count": 15,
   "metadata": {},
   "outputs": [
    {
     "data": {
      "text/plain": [
       "'Alright, the user just asked, \"What is 1+1?\" That seems pretty straightforward. They might be testing me or just starting with basic math. I should make sure to answer clearly and correctly. Maybe they\\'re a student or someone looking for a quick calculation. I\\'ll respond with the correct answer and offer further help in case they have more questions. Keeping it friendly and open-ended should encourage them to continue the conversation if they need more assistance.'"
      ]
     },
     "execution_count": 15,
     "metadata": {},
     "output_type": "execute_result"
    }
   ],
   "source": [
    "extract_from_think(assist_raw1)"
   ]
  },
  {
   "cell_type": "code",
   "execution_count": 16,
   "metadata": {},
   "outputs": [
    {
     "name": "stdout",
     "output_type": "stream",
     "text": [
      "No <think> tags found in the input string.\n"
     ]
    }
   ],
   "source": [
    "extract_from_think(assist_raw1_partial)"
   ]
  },
  {
   "cell_type": "markdown",
   "metadata": {},
   "source": [
    "## V2: `extract_thinking()`"
   ]
  },
  {
   "cell_type": "code",
   "execution_count": null,
   "metadata": {},
   "outputs": [],
   "source": [
    "def extract_thinking(string: str):\n",
    "    \"\"\"\n",
    "    Extract content from <think> tags, even if the closing tag isn't present yet (streaming case).\n",
    "    \n",
    "    Args:\n",
    "        string: The input string that may contain <think> tags\n",
    "        \n",
    "    Returns:\n",
    "        The content inside the <think> tags, or None if no tags are found\n",
    "    \"\"\"\n",
    "    import re\n",
    "    \n",
    "    # Try to match complete <think> tags first\n",
    "    complete_match = re.search(r\"<think>\\s*(.*?)\\s*</think>\", string, re.DOTALL)\n",
    "    if complete_match:\n",
    "        return complete_match.group(1)\n",
    "    \n",
    "    # If complete tags aren't found, check for partial (streaming) case\n",
    "    last_think_pos = string.rfind(\"<think>\")\n",
    "    if last_think_pos != -1:\n",
    "        # Extract everything after the last <think> tag (removing leading whitespace)\n",
    "        return string[last_think_pos + len(\"<think>\"):].lstrip()\n",
    "    \n",
    "    # No <think> tags found\n",
    "    return \"\""
   ]
  },
  {
   "cell_type": "code",
   "execution_count": 22,
   "metadata": {},
   "outputs": [],
   "source": [
    "def display_thinking(string: str):\n",
    "    thinking = extract_thinking(string)\n",
    "    return f\"\"\"```\n",
    "{thinking}\n",
    "```\"\"\"\n",
    "    "
   ]
  },
  {
   "cell_type": "code",
   "execution_count": 18,
   "metadata": {},
   "outputs": [
    {
     "data": {
      "text/plain": [
       "'Alright, the user just asked, \"What is 1+1?\" That seems pretty straightforward. They might be testing me or just starting with basic math. I should make sure to answer clearly and correctly. Maybe they\\'re a student or someone looking for a quick calculation. I\\'ll respond with the correct answer and offer further help in case they have more questions. Keeping it friendly and open-ended should encourage them to continue the conversation if they need more assistance.'"
      ]
     },
     "execution_count": 18,
     "metadata": {},
     "output_type": "execute_result"
    }
   ],
   "source": [
    "extract_thinking(assist_raw1)"
   ]
  },
  {
   "cell_type": "code",
   "execution_count": 19,
   "metadata": {},
   "outputs": [
    {
     "data": {
      "text/plain": [
       "'Alright, the user just asked, \"What is 1+1?\"\\n'"
      ]
     },
     "execution_count": 19,
     "metadata": {},
     "output_type": "execute_result"
    }
   ],
   "source": [
    "extract_thinking(assist_raw1_partial)"
   ]
  },
  {
   "cell_type": "code",
   "execution_count": 23,
   "metadata": {},
   "outputs": [
    {
     "data": {
      "text/plain": [
       "'```\\nAlright, the user just asked, \"What is 1+1?\" That seems pretty straightforward. They might be testing me or just starting with basic math. I should make sure to answer clearly and correctly. Maybe they\\'re a student or someone looking for a quick calculation. I\\'ll respond with the correct answer and offer further help in case they have more questions. Keeping it friendly and open-ended should encourage them to continue the conversation if they need more assistance.\\n```'"
      ]
     },
     "execution_count": 23,
     "metadata": {},
     "output_type": "execute_result"
    }
   ],
   "source": [
    "display_thinking(assist_raw1)"
   ]
  },
  {
   "cell_type": "markdown",
   "metadata": {},
   "source": [
    "## Extract Answer"
   ]
  },
  {
   "cell_type": "code",
   "execution_count": 24,
   "metadata": {},
   "outputs": [],
   "source": [
    "def extract_answer(string: str):\n",
    "    \"\"\"\n",
    "    Extract the answer part that appears after the closing </think> tag.\n",
    "    \n",
    "    Args:\n",
    "        string: The input string that may contain <think> tags\n",
    "        \n",
    "    Returns:\n",
    "        The content after the </think> tag, or an empty string if no closing tag is found\n",
    "    \"\"\"\n",
    "    # Find the position of the last closing </think> tag\n",
    "    last_closing_tag_pos = string.rfind(\"</think>\")\n",
    "    \n",
    "    if last_closing_tag_pos != -1:\n",
    "        # Extract everything after the closing tag (removing leading whitespace)\n",
    "        answer = string[last_closing_tag_pos + len(\"</think>\"):].lstrip()\n",
    "        return answer\n",
    "    \n",
    "    # If no closing tag is found, it means we're still in the thinking phase\n",
    "    # or there are no think tags at all\n",
    "    return \"\""
   ]
  },
  {
   "cell_type": "code",
   "execution_count": 25,
   "metadata": {},
   "outputs": [
    {
     "data": {
      "text/plain": [
       "'1 + 1 equals **2**. How can I assist you further? 😊\\n'"
      ]
     },
     "execution_count": 25,
     "metadata": {},
     "output_type": "execute_result"
    }
   ],
   "source": [
    "extract_answer(assist_raw1)"
   ]
  },
  {
   "cell_type": "code",
   "execution_count": 26,
   "metadata": {},
   "outputs": [
    {
     "data": {
      "text/plain": [
       "''"
      ]
     },
     "execution_count": 26,
     "metadata": {},
     "output_type": "execute_result"
    }
   ],
   "source": [
    "extract_answer(assist_raw1_partial)"
   ]
  }
 ],
 "metadata": {
  "kernelspec": {
   "display_name": "llm-env",
   "language": "python",
   "name": "python3"
  },
  "language_info": {
   "codemirror_mode": {
    "name": "ipython",
    "version": 3
   },
   "file_extension": ".py",
   "mimetype": "text/x-python",
   "name": "python",
   "nbconvert_exporter": "python",
   "pygments_lexer": "ipython3",
   "version": "3.12.9"
  }
 },
 "nbformat": 4,
 "nbformat_minor": 2
}
